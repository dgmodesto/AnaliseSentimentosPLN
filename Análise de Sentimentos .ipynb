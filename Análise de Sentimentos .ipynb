{
 "cells": [
  {
   "cell_type": "markdown",
   "metadata": {},
   "source": [
    "# **Processamento de Linguagem Natural **\n",
    "\n",
    "Análise de sentimentos associado as revisões de filmes encontrados no site IMDB.\n",
    "\n",
    "**Integrantes**:\n",
    "\n",
    "| Nome dos Integrantes     | RM            | Turma |\n",
    "| :----------------------- | :------------- | :-----: |\n",
    "| Allan Gregory             | RM 330158      | `1IA` |\n",
    "| Douglas Modesto             | RM 330217      | `1IA` |\n",
    "| Jonas Prado             | RM 330323      | `1IA` |\n",
    "| Liliane Scandoleiro             | RM 330672      | `1IA` |"
   ]
  },
  {
   "cell_type": "code",
   "execution_count": 1,
   "metadata": {},
   "outputs": [
    {
     "name": "stdout",
     "output_type": "stream",
     "text": [
      "[nltk_data] Downloading package stopwords to\n",
      "[nltk_data]     C:\\Users\\logonrmlocal\\AppData\\Roaming\\nltk_data...\n",
      "[nltk_data]   Package stopwords is already up-to-date!\n",
      "[nltk_data] Downloading package wordnet to\n",
      "[nltk_data]     C:\\Users\\logonrmlocal\\AppData\\Roaming\\nltk_data...\n",
      "[nltk_data]   Package wordnet is already up-to-date!\n"
     ]
    },
    {
     "data": {
      "text/plain": [
       "True"
      ]
     },
     "execution_count": 1,
     "metadata": {},
     "output_type": "execute_result"
    }
   ],
   "source": [
    "import pandas as pd\n",
    "import random\n",
    "import nltk\n",
    "\n",
    "from sklearn.feature_extraction.text import CountVectorizer\n",
    "from sklearn.linear_model import LogisticRegression\n",
    "from sklearn.metrics import accuracy_score\n",
    "from sklearn.model_selection import train_test_split\n",
    "from sklearn import metrics\n",
    "from sklearn.model_selection import cross_val_predict\n",
    "from nltk.stem import WordNetLemmatizer\n",
    "\n",
    "nltk.download('stopwords')\n",
    "nltk.download('wordnet')\n"
   ]
  },
  {
   "cell_type": "markdown",
   "metadata": {},
   "source": [
    "Carrega o dataset IMDB que contém críticas de filmes em português e inglês selecionando 10 mil linhas em forma randômica.!"
   ]
  },
  {
   "cell_type": "code",
   "execution_count": 2,
   "metadata": {},
   "outputs": [
    {
     "data": {
      "text/html": [
       "<div>\n",
       "<style scoped>\n",
       "    .dataframe tbody tr th:only-of-type {\n",
       "        vertical-align: middle;\n",
       "    }\n",
       "\n",
       "    .dataframe tbody tr th {\n",
       "        vertical-align: top;\n",
       "    }\n",
       "\n",
       "    .dataframe thead th {\n",
       "        text-align: right;\n",
       "    }\n",
       "</style>\n",
       "<table border=\"1\" class=\"dataframe\">\n",
       "  <thead>\n",
       "    <tr style=\"text-align: right;\">\n",
       "      <th></th>\n",
       "      <th>index</th>\n",
       "      <th>id</th>\n",
       "      <th>text_en</th>\n",
       "      <th>text_pt</th>\n",
       "      <th>sentiment</th>\n",
       "    </tr>\n",
       "  </thead>\n",
       "  <tbody>\n",
       "    <tr>\n",
       "      <th>0</th>\n",
       "      <td>35414</td>\n",
       "      <td>35416</td>\n",
       "      <td>This series has its ups and occasional downs, ...</td>\n",
       "      <td>Esta série tem seus altos e baixos ocasionais,...</td>\n",
       "      <td>neg</td>\n",
       "    </tr>\n",
       "    <tr>\n",
       "      <th>1</th>\n",
       "      <td>34696</td>\n",
       "      <td>34698</td>\n",
       "      <td>What in Gods name happened here? How does one ...</td>\n",
       "      <td>O que em nome de Deus aconteceu aqui? Como se ...</td>\n",
       "      <td>neg</td>\n",
       "    </tr>\n",
       "    <tr>\n",
       "      <th>2</th>\n",
       "      <td>10783</td>\n",
       "      <td>10785</td>\n",
       "      <td>After having problems in Chicago, the Solomon ...</td>\n",
       "      <td>Depois de ter problemas em Chicago, a família ...</td>\n",
       "      <td>neg</td>\n",
       "    </tr>\n",
       "    <tr>\n",
       "      <th>3</th>\n",
       "      <td>34033</td>\n",
       "      <td>34035</td>\n",
       "      <td>The plot of 7EVENTY 5IVE involves college kids...</td>\n",
       "      <td>O enredo de 7EVENTY 5IVE envolve crianças de f...</td>\n",
       "      <td>neg</td>\n",
       "    </tr>\n",
       "    <tr>\n",
       "      <th>4</th>\n",
       "      <td>18743</td>\n",
       "      <td>18745</td>\n",
       "      <td>Well, of course the critics hated it. This isn...</td>\n",
       "      <td>Bem, é claro que os críticos odiaram isso. Est...</td>\n",
       "      <td>pos</td>\n",
       "    </tr>\n",
       "  </tbody>\n",
       "</table>\n",
       "</div>"
      ],
      "text/plain": [
       "   index     id                                            text_en  \\\n",
       "0  35414  35416  This series has its ups and occasional downs, ...   \n",
       "1  34696  34698  What in Gods name happened here? How does one ...   \n",
       "2  10783  10785  After having problems in Chicago, the Solomon ...   \n",
       "3  34033  34035  The plot of 7EVENTY 5IVE involves college kids...   \n",
       "4  18743  18745  Well, of course the critics hated it. This isn...   \n",
       "\n",
       "                                             text_pt sentiment  \n",
       "0  Esta série tem seus altos e baixos ocasionais,...       neg  \n",
       "1  O que em nome de Deus aconteceu aqui? Como se ...       neg  \n",
       "2  Depois de ter problemas em Chicago, a família ...       neg  \n",
       "3  O enredo de 7EVENTY 5IVE envolve crianças de f...       neg  \n",
       "4  Bem, é claro que os críticos odiaram isso. Est...       pos  "
      ]
     },
     "execution_count": 2,
     "metadata": {},
     "output_type": "execute_result"
    }
   ],
   "source": [
    "# Dataset que deverá ser carregado\n",
    "file = 'imdb-reviews-pt-br.csv'\n",
    "\n",
    "data = pd.read_csv(file)\n",
    "df = data.sample(n=10000)\n",
    "\n",
    "#cria um novo index para o dataset\n",
    "df = df.reset_index() \n",
    "df.head()"
   ]
  },
  {
   "cell_type": "code",
   "execution_count": 3,
   "metadata": {},
   "outputs": [
    {
     "data": {
      "text/plain": [
       "(10000, 2)"
      ]
     },
     "execution_count": 3,
     "metadata": {},
     "output_type": "execute_result"
    }
   ],
   "source": [
    "#exclui colunas irrelevantes para análise\n",
    "df = df.drop(columns = ['index', 'id', 'text_en']) \n",
    "\n",
    "#Tamanho do dataset (linhas e colunas)\n",
    "df.shape"
   ]
  },
  {
   "cell_type": "code",
   "execution_count": 4,
   "metadata": {},
   "outputs": [
    {
     "data": {
      "text/plain": [
       "text_pt      0.0\n",
       "sentiment    0.0\n",
       "dtype: float64"
      ]
     },
     "execution_count": 4,
     "metadata": {},
     "output_type": "execute_result"
    }
   ],
   "source": [
    "#Verifica a % de dados nulos no dataset\n",
    "\n",
    "df.isnull().sum()/df.shape[0]"
   ]
  },
  {
   "cell_type": "code",
   "execution_count": 5,
   "metadata": {},
   "outputs": [
    {
     "data": {
      "text/plain": [
       "text_pt      5032\n",
       "sentiment    5032\n",
       "dtype: int64"
      ]
     },
     "execution_count": 5,
     "metadata": {},
     "output_type": "execute_result"
    }
   ],
   "source": [
    "#Quantidade de itens classificados negativo\n",
    "\n",
    "df[df.sentiment == 'neg'].count()"
   ]
  },
  {
   "cell_type": "code",
   "execution_count": 6,
   "metadata": {},
   "outputs": [
    {
     "data": {
      "text/plain": [
       "text_pt      4968\n",
       "sentiment    4968\n",
       "dtype: int64"
      ]
     },
     "execution_count": 6,
     "metadata": {},
     "output_type": "execute_result"
    }
   ],
   "source": [
    "#Quantidade de itens classificados positivo\n",
    "\n",
    "df[df.sentiment == 'pos'].count()"
   ]
  },
  {
   "cell_type": "markdown",
   "metadata": {},
   "source": [
    "## Vetorização\n",
    "\n",
    "Para trabalhar com o algoritmo de Machine Learning é necessário converter cada termo em uma representação numérica, denominado de vetorização. Depois, calcula a frequência em que essa palavra ocorre em uma sentença, descartando as stopwords.\n",
    "\n",
    "A função **fit** aprende o vocabulário do dataset e a função **transform** transforma os dados de treinamento codificadas cada uma em vetor com frequêcia das palavras."
   ]
  },
  {
   "cell_type": "code",
   "execution_count": 7,
   "metadata": {},
   "outputs": [
    {
     "name": "stderr",
     "output_type": "stream",
     "text": [
      "C:\\ProgramData\\Anaconda3\\lib\\site-packages\\sklearn\\model_selection\\_split.py:2026: FutureWarning: From version 0.21, test_size will always complement train_size unless both are specified.\n",
      "  FutureWarning)\n"
     ]
    },
    {
     "name": "stdout",
     "output_type": "stream",
     "text": [
      "Acurácia para C=0.01: 0.8572\n",
      "Acurácia para C=0.05: 0.864\n",
      "Acurácia para C=0.25: 0.858\n",
      "Acurácia para C=0.5: 0.8528\n",
      "Acurácia para C=1: 0.8472\n",
      "cross_val_predict:  ['pos' 'pos' 'neg' ..., 'pos' 'neg' 'neg']\n",
      "Acurácia:  0.8456\n",
      "             precision    recall  f1-score   support\n",
      "\n",
      "        pos       0.83      0.88      0.85      1276\n",
      "        neg       0.86      0.81      0.84      1224\n",
      "\n",
      "avg / total       0.85      0.85      0.85      2500\n",
      "\n"
     ]
    }
   ],
   "source": [
    "stops = nltk.corpus.stopwords.words('portuguese') # remove as stopwords da nossa lista de palavras\n",
    "\n",
    "vect = CountVectorizer(binary=True, stop_words=stops)\n",
    "vect.fit(df.text_pt)\n",
    "text_vect = vect.transform(df.text_pt)\n",
    "\n",
    "#Separa a base para treino e teste\n",
    "X_train,X_test,y_train,y_test = train_test_split(\n",
    "    text_vect, \n",
    "    df[\"sentiment\"], \n",
    "    train_size = 0.75, \n",
    "    random_state = 42\n",
    ")\n",
    "\n",
    "#Aplicação do algoritmo de classificação Logistic Regression para análise de sentimentos para cada crítica de filme.\n",
    "\n",
    "for c in [0.01, 0.05, 0.25, 0.5, 1]: # Compara a melhor acurácia entre os modelos para selecionar o melhor \n",
    "    \n",
    "    lr = LogisticRegression(C=c)\n",
    "    lr.fit(X_train, y_train)\n",
    "    print (\"Acurácia para C=%s: %s\" \n",
    "           % (c, accuracy_score(y_test, lr.predict(X_test))))   # verifica a acuracidade dos modelos\n",
    "    \n",
    "    \n",
    "# Treina e testa o modelo que obteve a melhor acuracidade.\n",
    "final_model = LogisticRegression(C=0.05)\n",
    "final_model.fit(X_train, y_train)\n",
    "\n",
    "#Avaliação do modelo através da acurácia, validação cruzada e outras medidas.\n",
    "\n",
    "# Validação cruzada do modelo. Neste caso, o modelo é dividido em 10 partes, treinado em 9 e testando em 1\n",
    "resultados = cross_val_predict(final_model, X_test, y_test, cv = 10)\n",
    "print('cross_val_predict: ', resultados)\n",
    "\n",
    "print('Acurácia: ', metrics.accuracy_score(y_test, resultados))\n",
    "\n",
    "sentimentos = [\"pos\", \"neg\"]\n",
    "print(metrics.classification_report(y_test, resultados, sentimentos))"
   ]
  },
  {
   "cell_type": "markdown",
   "metadata": {},
   "source": [
    "## Normalização\n",
    "\n",
    "A seguir apresenta-se algumas aplicações de técnicas para \"normalização das palavras\" como a redução ou a simplificação ou a radicalização de palavras."
   ]
  },
  {
   "cell_type": "markdown",
   "metadata": {},
   "source": [
    "### Stemming\n",
    "\n",
    "O processo de stemming consiste em reduzir a palavra à sua raiz (sem levar em conta a classe gramatical)\n",
    "\n",
    "**amig : amigo, amiga, amigão**\n",
    "\n",
    "**gat : gato, gata, gatos, gatas**\n",
    "\n",
    "Stemming geralmente refere-se a um processo de heurística que corta as extremidades das palavras inclui frequentemente a remoção de afixos derivacionais. Pode ser representado por um conjunto de regras que dependem da linguagem.\n"
   ]
  },
  {
   "cell_type": "code",
   "execution_count": 9,
   "metadata": {},
   "outputs": [
    {
     "name": "stderr",
     "output_type": "stream",
     "text": [
      "C:\\ProgramData\\Anaconda3\\lib\\site-packages\\sklearn\\model_selection\\_split.py:2026: FutureWarning: From version 0.21, test_size will always complement train_size unless both are specified.\n",
      "  FutureWarning)\n"
     ]
    },
    {
     "name": "stdout",
     "output_type": "stream",
     "text": [
      "Acurácia para C=0.01: 0.8544\n",
      "Acurácia para C=0.05: 0.8604\n",
      "Acurácia para C=0.25: 0.852\n",
      "Acurácia para C=0.5: 0.8492\n",
      "Acurácia para C=1: 0.8448\n",
      "cross_val_predict:  ['pos' 'pos' 'neg' ..., 'pos' 'neg' 'neg']\n",
      "Acurácia:  0.8404\n",
      "             precision    recall  f1-score   support\n",
      "\n",
      "        pos       0.83      0.87      0.85      1276\n",
      "        neg       0.85      0.81      0.83      1224\n",
      "\n",
      "avg / total       0.84      0.84      0.84      2500\n",
      "\n"
     ]
    }
   ],
   "source": [
    "def get_stemmed_text(corpus):\n",
    "    from nltk.stem.porter import PorterStemmer\n",
    "    stemmer = PorterStemmer()\n",
    "\n",
    "    return [' '.join([stemmer.stem(word) for word in review.split()]) for review in corpus]\n",
    "\n",
    "stemmed_reviews_train = get_stemmed_text(df.text_pt)\n",
    "\n",
    "cv = CountVectorizer(binary=True, stop_words=stops)\n",
    "cv.fit(stemmed_reviews_train)\n",
    "X = cv.transform(stemmed_reviews_train)\n",
    "\n",
    "#Separa a base para treino e teste\n",
    "X_train,X_test,y_train,y_test = train_test_split(\n",
    "    X, \n",
    "    df[\"sentiment\"], \n",
    "    train_size = 0.75, \n",
    "    random_state = 42\n",
    ")\n",
    "\n",
    "#Aplicação do algoritmo de classificação Logistic Regression para análise de sentimentos para cada crítica de filme.\n",
    "for c in [0.01, 0.05, 0.25, 0.5, 1]:  # Compara a melhor acurácia entre os modelos para selecionar o melhor\n",
    "    \n",
    "    lr = LogisticRegression(C=c)\n",
    "    lr.fit(X_train, y_train)\n",
    "    print (\"Acurácia para C=%s: %s\" \n",
    "           % (c, accuracy_score(y_test, lr.predict(X_test)))) # verifica a acuracidade dos modelos\n",
    "    \n",
    "# Treina e testa o modelo que obteve a melhor acuracidade.\n",
    "final_stemmed = LogisticRegression(C=0.05)\n",
    "final_stemmed.fit(X_train, y_train)\n",
    "\n",
    "#Avaliação do modelo através da acurácia, validação cruzada e outras medidas.\n",
    "\n",
    "# Validação cruzada do modelo. Neste caso, o modelo é dividido em 10 partes, treinado em 9 e testando em 1\n",
    "resultados = cross_val_predict(final_stemmed, X_test, y_test, cv = 10)\n",
    "print('cross_val_predict: ', resultados)\n",
    "\n",
    "print('Acurácia: ', metrics.accuracy_score(y_test, resultados))\n",
    "\n",
    "sentimentos = [\"pos\", \"neg\"]\n",
    "print(metrics.classification_report(y_test, resultados, sentimentos))"
   ]
  },
  {
   "cell_type": "markdown",
   "metadata": {},
   "source": [
    "### Lemmatization\n",
    "\n",
    "Na linguística computacional , a lematização é o processo algorítmico de determinar o lema de uma palavra com base em seu significado pretendido. Diferentemente da stemming , a Lematização depende da identificação correta da parte pretendida da fala e do significado de uma palavra em uma frase, bem como dentro do contexto mais amplo em torno dessa sentença, como sentenças vizinhas ou até mesmo um documento inteiro.\n"
   ]
  },
  {
   "cell_type": "code",
   "execution_count": 10,
   "metadata": {},
   "outputs": [
    {
     "name": "stdout",
     "output_type": "stream",
     "text": [
      "[nltk_data] Downloading package wordnet to\n",
      "[nltk_data]     C:\\Users\\logonrmlocal\\AppData\\Roaming\\nltk_data...\n",
      "[nltk_data]   Package wordnet is already up-to-date!\n"
     ]
    },
    {
     "name": "stderr",
     "output_type": "stream",
     "text": [
      "C:\\ProgramData\\Anaconda3\\lib\\site-packages\\sklearn\\model_selection\\_split.py:2026: FutureWarning: From version 0.21, test_size will always complement train_size unless both are specified.\n",
      "  FutureWarning)\n"
     ]
    },
    {
     "name": "stdout",
     "output_type": "stream",
     "text": [
      "Acurácia para C=0.01: 0.8588\n",
      "Acurácia para C=0.05: 0.866\n",
      "Acurácia para C=0.25: 0.8588\n",
      "Acurácia para C=0.5: 0.8532\n",
      "Acurácia para C=1: 0.8512\n",
      "Acurácia:  0.834\n",
      "             precision    recall  f1-score   support\n",
      "\n",
      "        pos       0.82      0.86      0.84      1276\n",
      "        neg       0.85      0.81      0.83      1224\n",
      "\n",
      "avg / total       0.83      0.83      0.83      2500\n",
      "\n"
     ]
    }
   ],
   "source": [
    "nltk.download('wordnet')\n",
    "\n",
    "\n",
    "def get_lemmatized_text(corpus):\n",
    "    \n",
    "    from nltk.stem import WordNetLemmatizer\n",
    "    lemmatizer = WordNetLemmatizer()\n",
    "    return [' '.join([lemmatizer.lemmatize(word) for word in review.split()]) for review in corpus]\n",
    "\n",
    "lemmatized_reviews_train = get_lemmatized_text(df.text_pt)\n",
    "\n",
    "cv = CountVectorizer(binary=True, stop_words=stops)\n",
    "cv.fit(lemmatized_reviews_train)\n",
    "X = cv.transform(lemmatized_reviews_train)\n",
    "\n",
    "\n",
    "#Separa a base para treino e teste\n",
    "X_train,X_test,y_train,y_test = train_test_split(\n",
    "    X, \n",
    "    df[\"sentiment\"], \n",
    "    train_size = 0.75, \n",
    "    random_state = 42\n",
    ")\n",
    "\n",
    "#Aplicação do algoritmo de classificação Logistic Regression para análise de sentimentos para cada crítica de filme.\n",
    "for c in [0.01, 0.05, 0.25, 0.5, 1]: # Compara a melhor acurácia entre os modelos para selecionar o melhor\n",
    "    \n",
    "    lr = LogisticRegression(C=c)\n",
    "    lr.fit(X_train, y_train)\n",
    "    print (\"Acurácia para C=%s: %s\" \n",
    "           % (c, accuracy_score(y_test, lr.predict(X_test)))) # verifica a acuracidade dos modelos\n",
    "\n",
    "# Treina e testa o modelo que obteve a melhor acuracidade.\n",
    "final_lemmatized = LogisticRegression(C=0.25)\n",
    "final_lemmatized.fit(X_train, y_train)\n",
    "\n",
    "#Avaliação do modelo através da acurácia, validação cruzada e outras medidas.\n",
    "\n",
    "# Validação cruzada do modelo. Neste caso, o modelo é dividido em 10 partes, treinado em 9 e testando em 1\n",
    "resultados = cross_val_predict(final_lemmatized, X_test, y_test, cv = 10)\n",
    "print('Acurácia: ', metrics.accuracy_score(y_test, resultados))\n",
    "\n",
    "sentimentos = [\"pos\", \"neg\"]\n",
    "print(metrics.classification_report(y_test, resultados, sentimentos))"
   ]
  },
  {
   "cell_type": "markdown",
   "metadata": {},
   "source": [
    "### n-grams\n",
    "\n",
    "Um n-grama é simplesmente uma sequência de tokens. No contexto da linguística computacional, esses tokens são geralmente palavras, embora possam ser caracteres ou subconjuntos de caracteres. O n simplesmente se refere ao número de tokens. "
   ]
  },
  {
   "cell_type": "code",
   "execution_count": 12,
   "metadata": {},
   "outputs": [
    {
     "name": "stderr",
     "output_type": "stream",
     "text": [
      "C:\\ProgramData\\Anaconda3\\lib\\site-packages\\sklearn\\model_selection\\_split.py:2026: FutureWarning: From version 0.21, test_size will always complement train_size unless both are specified.\n",
      "  FutureWarning)\n"
     ]
    },
    {
     "name": "stdout",
     "output_type": "stream",
     "text": [
      "Acurácia para C=0.01: 0.8576\n",
      "Acurácia para C=0.05: 0.8672\n",
      "Acurácia para C=0.25: 0.868\n",
      "Acurácia para C=0.5: 0.8672\n",
      "Acurácia para C=1: 0.8668\n",
      "Acurácia:  0.8404\n",
      "             precision    recall  f1-score   support\n",
      "\n",
      "        pos       0.82      0.88      0.85      1276\n",
      "        neg       0.86      0.80      0.83      1224\n",
      "\n",
      "avg / total       0.84      0.84      0.84      2500\n",
      "\n"
     ]
    }
   ],
   "source": [
    "ngram_vectorizer = CountVectorizer(binary=True, ngram_range=(1, 2),stop_words=stops)\n",
    "\n",
    "ngram_vectorizer.fit(df.text_pt)\n",
    "X = ngram_vectorizer.transform(df.text_pt)\n",
    "\n",
    "#Separa a base para treino e teste\n",
    "X_train,X_test,y_train,y_test = train_test_split(\n",
    "    X, \n",
    "    df[\"sentiment\"], \n",
    "    train_size = 0.75, \n",
    "    random_state = 42\n",
    ")\n",
    "\n",
    "#Aplicação do algoritmo de classificação Logistic Regression para análise de sentimentos para cada crítica de filme.\n",
    "for c in [0.01, 0.05, 0.25, 0.5, 1]: # Compara a melhor acurácia entre os modelos para selecionar o melhor\n",
    "    \n",
    "    lr = LogisticRegression(C=c)\n",
    "    lr.fit(X_train, y_train)\n",
    "    print (\"Acurácia para C=%s: %s\" \n",
    "           % (c, accuracy_score(y_test, lr.predict(X_test))))  # verifica a acuracidade dos modelos\n",
    "\n",
    "# Treina e testa o modelo que obteve a melhor acuracidade.\n",
    "final_ngram = LogisticRegression(C=0.25)\n",
    "final_ngram.fit(X_train, y_train)\n",
    "\n",
    "#Avaliação do modelo através da acurácia, validação cruzada e outras medidas.\n",
    "\n",
    "# Validação cruzada do modelo. Neste caso, o modelo é dividido em 10 partes, treinado em 9 e testando em 1\n",
    "resultados = cross_val_predict(final_ngram, X_test, y_test, cv = 10)\n",
    "print('Acurácia: ', metrics.accuracy_score(y_test, resultados))\n",
    "sentimentos = [\"pos\", \"neg\"]\n",
    "print(metrics.classification_report(y_test, resultados, sentimentos))"
   ]
  },
  {
   "cell_type": "markdown",
   "metadata": {},
   "source": [
    "### TF-IDF\n",
    "\n",
    "O valor tf–idf, é uma medida estatística que tem o intuito de indicar a importância de uma palavra de um documento em relação a uma coleção de documentos ou em um corpus linguístico"
   ]
  },
  {
   "cell_type": "code",
   "execution_count": 13,
   "metadata": {},
   "outputs": [
    {
     "name": "stderr",
     "output_type": "stream",
     "text": [
      "C:\\ProgramData\\Anaconda3\\lib\\site-packages\\sklearn\\model_selection\\_split.py:2026: FutureWarning: From version 0.21, test_size will always complement train_size unless both are specified.\n",
      "  FutureWarning)\n"
     ]
    },
    {
     "name": "stdout",
     "output_type": "stream",
     "text": [
      "Acurácia para C=0.01: 0.7344\n",
      "Acurácia para C=0.05: 0.8248\n",
      "Acurácia para C=0.25: 0.8548\n",
      "Acurácia para C=0.5: 0.8652\n",
      "Acurácia para C=1: 0.8748\n",
      "Acurácia:  0.8392\n",
      "             precision    recall  f1-score   support\n",
      "\n",
      "        pos       0.81      0.90      0.85      1276\n",
      "        neg       0.88      0.77      0.82      1224\n",
      "\n",
      "avg / total       0.84      0.84      0.84      2500\n",
      "\n"
     ]
    }
   ],
   "source": [
    "from sklearn.feature_extraction.text import TfidfVectorizer\n",
    "\n",
    "tfidf_vectorizer = TfidfVectorizer(stop_words=stops)\n",
    "tfidf_vectorizer.fit(df.text_pt)\n",
    "X = tfidf_vectorizer.transform(df.text_pt)\n",
    "\n",
    "#Separa a base para treino e teste\n",
    "X_train,X_test,y_train,y_test = train_test_split(\n",
    "    X, \n",
    "    df[\"sentiment\"], \n",
    "    train_size = 0.75, \n",
    "    random_state = 42\n",
    ")\n",
    "\n",
    "#Aplicação do algoritmo de classificação Logistic Regression para análise de sentimentos para cada crítica de filme.\n",
    "for c in [0.01, 0.05, 0.25, 0.5, 1]: # Compara a melhor acurácia entre os modelos para selecionar o melhor\n",
    "    \n",
    "    lr = LogisticRegression(C=c)\n",
    "    lr.fit(X_train, y_train)\n",
    "    print (\"Acurácia para C=%s: %s\" \n",
    "           % (c, accuracy_score(y_test, lr.predict(X_test))))  # verifica a acuracidade dos modelos\n",
    "\n",
    "# Treina e testa o modelo que obteve a melhor acuracidade. \n",
    "final_tfidf = LogisticRegression(C=1)\n",
    "final_tfidf.fit(X_train, y_train)\n",
    "\n",
    "#Avaliação do modelo através da acurácia, validação cruzada e outras medidas.\n",
    "\n",
    "# Validação cruzada do modelo. Neste caso, o modelo é dividido em 10 partes, treinado em 9 e testando em 1\n",
    "resultados = cross_val_predict(final_tfidf, X_test, y_test, cv = 10)\n",
    "print('Acurácia: ', metrics.accuracy_score(y_test, resultados))\n",
    "sentimentos = [\"pos\", \"neg\"]\n",
    "print(metrics.classification_report(y_test, resultados, sentimentos))"
   ]
  },
  {
   "cell_type": "markdown",
   "metadata": {},
   "source": [
    "## Support Vector Machines (SVM)\n",
    "\n",
    "SVM é um algoritmo de aprendizado supervisionado associados que analisam os dados usados ​​para classificação e análise de regressão ."
   ]
  },
  {
   "cell_type": "code",
   "execution_count": 18,
   "metadata": {},
   "outputs": [
    {
     "name": "stderr",
     "output_type": "stream",
     "text": [
      "C:\\ProgramData\\Anaconda3\\lib\\site-packages\\sklearn\\model_selection\\_split.py:2026: FutureWarning: From version 0.21, test_size will always complement train_size unless both are specified.\n",
      "  FutureWarning)\n"
     ]
    },
    {
     "name": "stdout",
     "output_type": "stream",
     "text": [
      "Acurácia para C=0.01: 0.8308\n",
      "Acurácia para C=0.05: 0.8644\n",
      "Acurácia para C=0.25: 0.8768\n",
      "Acurácia para C=0.5: 0.8724\n",
      "Acurácia para C=1: 0.8696\n",
      "Acurácia:  0.8504\n",
      "             precision    recall  f1-score   support\n",
      "\n",
      "        pos       0.82      0.90      0.86      1276\n",
      "        neg       0.88      0.80      0.84      1224\n",
      "\n",
      "avg / total       0.85      0.85      0.85      2500\n",
      "\n"
     ]
    }
   ],
   "source": [
    "from sklearn.svm import LinearSVC\n",
    "\n",
    "tfidf_vectorizer = TfidfVectorizer(stop_words=stops)\n",
    "tfidf_vectorizer.fit(df.text_pt)\n",
    "X = tfidf_vectorizer.transform(df.text_pt)\n",
    "\n",
    "#Separa a base para treino e teste\n",
    "X_train,X_test,y_train,y_test = train_test_split(\n",
    "    X, \n",
    "    df[\"sentiment\"], \n",
    "    train_size = 0.75, \n",
    "    random_state = 42\n",
    ")\n",
    "\n",
    "#Aplicação do algoritmo de classificação SVM para análise de sentimentos para cada crítica de filme.\n",
    "for c in [0.01, 0.05, 0.25, 0.5, 1]: # Compara a melhor acurácia entre os modelos para selecionar o melhor\n",
    "    \n",
    "    svm  = LinearSVC(C=c)\n",
    "    svm.fit(X_train, y_train)\n",
    "    print (\"Acurácia para C=%s: %s\" \n",
    "       % (c, accuracy_score(y_test, svm.predict(X_test))))  # verifica a acuracidade dos modelos\n",
    "  \n",
    "\n",
    "# Treina e testa o modelo que obteve a melhor acuracidade. \n",
    "svm = LinearSVC(C=0.25)\n",
    "svm.fit(X_train, y_train)\n",
    "\n",
    "# Avaliação do modelo através da acurácia, validação cruzada e outras medidas.\n",
    "\n",
    "# Validação cruzada do modelo. Neste caso, o modelo é dividido em 10 partes, treinado em 9 e testando em 1\n",
    "resultados = cross_val_predict(svm, X_test, y_test, cv = 10)\n",
    "print('Acurácia: ', metrics.accuracy_score(y_test, resultados))\n",
    "sentimentos = [\"pos\", \"neg\"]\n",
    "print(metrics.classification_report(y_test, resultados, sentimentos))"
   ]
  },
  {
   "cell_type": "markdown",
   "metadata": {},
   "source": [
    "## Decision Tree Classifier\n",
    "\n",
    "Algoritmo Árvore de decisão é um método de aprendizado de máquinas supervisionado não-paramétricos, utilizado para classificação e regressão. Em uma árvore de decisão, uma decisão é tomada através do caminhamento a partir do nó raiz até o nó folha para alcançar a predição que são convertidas em regras para determinar a classificação."
   ]
  },
  {
   "cell_type": "code",
   "execution_count": 19,
   "metadata": {
    "scrolled": true
   },
   "outputs": [
    {
     "name": "stderr",
     "output_type": "stream",
     "text": [
      "C:\\ProgramData\\Anaconda3\\lib\\site-packages\\sklearn\\model_selection\\_split.py:2026: FutureWarning: From version 0.21, test_size will always complement train_size unless both are specified.\n",
      "  FutureWarning)\n"
     ]
    },
    {
     "name": "stdout",
     "output_type": "stream",
     "text": [
      "Acurácia:  0.6756\n",
      "             precision    recall  f1-score   support\n",
      "\n",
      "        pos       0.68      0.68      0.68      1276\n",
      "        neg       0.67      0.67      0.67      1224\n",
      "\n",
      "avg / total       0.68      0.68      0.68      2500\n",
      "\n"
     ]
    }
   ],
   "source": [
    "from sklearn import tree\n",
    "\n",
    "tfidf_vectorizer = TfidfVectorizer(stop_words=stops)\n",
    "tfidf_vectorizer.fit(df.text_pt)\n",
    "X = tfidf_vectorizer.transform(df.text_pt)\n",
    "\n",
    "#Separa a base para treino e teste\n",
    "X_train,X_test,y_train,y_test = train_test_split(\n",
    "    X, \n",
    "    df[\"sentiment\"], \n",
    "    train_size = 0.75, \n",
    "    random_state = 42\n",
    ")\n",
    "\n",
    "#Aplicação do algoritmo de classificação SVM para análise de sentimentos para cada crítica de filme.\n",
    "\n",
    "clf = tree.DecisionTreeClassifier()\n",
    "clf.fit(X_train, y_train)\n",
    "\n",
    "\n",
    "#Avaliação do modelo através da acurácia, validação cruzada e outras medidas.\n",
    "\n",
    "# Validação cruzada do modelo. Neste caso, o modelo é dividido em 10 partes, treinado em 9 e testando em 1\n",
    "resultados = cross_val_predict(clf, X_test, y_test, cv = 10)\n",
    "print('Acurácia: ', metrics.accuracy_score(y_test, resultados))\n",
    "sentimentos = [\"pos\", \"neg\"]\n",
    "print(metrics.classification_report(y_test, resultados, sentimentos))"
   ]
  },
  {
   "cell_type": "markdown",
   "metadata": {},
   "source": [
    "## Modelo Final\n",
    "\n",
    "Aplicamos as técnicas de normalização stemming, lemmatization,n-grams e TF-IDF, todas removendo as stopwords da língua portuguesa. Selecionamos a que obteve melhor F1 score na maioria dos testes realizados a partir do algoritmo de classificação de Regressão Logística.\n",
    "\n",
    "Após selecionar a técnica de normalização aplicamos três algoritmos de classificação que são a Regressão Logística, SVM e Decision Tree para comparar a acurácia, precision, recall e f1-score de cada modelo. Para selecionar o melhor algoritmo para o modelo final, optamos pelo algoritmo SVM que se prevaleceu superior comparado com os outros dois algoritmos ao obter F1 score em torno de 0.84 na maioria dos testes."
   ]
  },
  {
   "cell_type": "code",
   "execution_count": 20,
   "metadata": {},
   "outputs": [
    {
     "name": "stderr",
     "output_type": "stream",
     "text": [
      "C:\\ProgramData\\Anaconda3\\lib\\site-packages\\sklearn\\model_selection\\_split.py:2026: FutureWarning: From version 0.21, test_size will always complement train_size unless both are specified.\n",
      "  FutureWarning)\n"
     ]
    },
    {
     "name": "stdout",
     "output_type": "stream",
     "text": [
      "Acurácia para C=0.01: 0.8748\n",
      "Acurácia para C=0.05: 0.8748\n",
      "Acurácia para C=0.25: 0.8748\n",
      "Acurácia para C=0.5: 0.8748\n",
      "Acurácia para C=1: 0.8748\n",
      "Acurácia:  0.8392\n",
      "             precision    recall  f1-score   support\n",
      "\n",
      "        pos       0.81      0.90      0.85      1276\n",
      "        neg       0.88      0.77      0.82      1224\n",
      "\n",
      "avg / total       0.84      0.84      0.84      2500\n",
      "\n"
     ]
    }
   ],
   "source": [
    "from sklearn.svm import LinearSVC\n",
    "\n",
    "tfidf_vectorizer = TfidfVectorizer(stop_words=stops)\n",
    "tfidf_vectorizer.fit(df.text_pt)\n",
    "X = tfidf_vectorizer.transform(df.text_pt)\n",
    "\n",
    "#Separa a base para treino e teste\n",
    "X_train,X_test,y_train,y_test = train_test_split(\n",
    "    X, \n",
    "    df[\"sentiment\"], \n",
    "    train_size = 0.75, \n",
    "    random_state = 42\n",
    ")\n",
    "\n",
    "#Aplicação do algoritmo de classificação SVM para análise de sentimentos para cada crítica de filme.\n",
    "for c in [0.01, 0.05, 0.25, 0.5, 1]: # Compara a melhor acurácia entre os modelos para selecionar o melhor\n",
    "    \n",
    "    svm  = LinearSVC(C=c)\n",
    "    svm.fit(X_train, y_train)\n",
    "    print (\"Acurácia para C=%s: %s\" \n",
    "           % (c, accuracy_score(y_test, lr.predict(X_test))))  # verifica a acuracidade dos modelos\n",
    "\n",
    "# Treina e testa o modelo que obteve a melhor acuracidade. \n",
    "final_svm = LinearSVC(C=0.25)\n",
    "final_svm.fit(X_train, y_train)\n",
    "\n",
    "#Avaliação do modelo através da acurácia, validação cruzada e outras medidas.\n",
    "\n",
    "# Validação cruzada do modelo. Neste caso, o modelo é dividido em 10 partes, treinado em 9 e testando em 1\n",
    "resultados = cross_val_predict(final_tfidf, X_test, y_test, cv = 10)\n",
    "print('Acurácia: ', metrics.accuracy_score(y_test, resultados))\n",
    "sentimentos = [\"pos\", \"neg\"]\n",
    "print(metrics.classification_report(y_test, resultados, sentimentos))"
   ]
  },
  {
   "cell_type": "markdown",
   "metadata": {},
   "source": [
    "## TOP 10 palavras positivas e negativas\n",
    "\n",
    "TOP 10 palavras positivas e negativas referente a base de dados de críticas de filmes no portal IMDB."
   ]
  },
  {
   "cell_type": "code",
   "execution_count": 30,
   "metadata": {},
   "outputs": [
    {
     "name": "stdout",
     "output_type": "stream",
     "text": [
      "('excelente', 2.741381995663172)\n",
      "('ótimo', 2.3056699540377177)\n",
      "('gostei', 1.8606195711410798)\n",
      "('incrível', 1.800707108371753)\n",
      "('brilhante', 1.6549019241075882)\n",
      "('fácil', 1.6296147305629236)\n",
      "('hoje', 1.5740059855113739)\n",
      "('especialmente', 1.5524209188038058)\n",
      "('ótima', 1.527162320916081)\n",
      "('melhores', 1.3887123702810915)\n",
      "\n",
      "\n",
      "\n",
      "('pior', -3.2744285926961774)\n",
      "('ruim', -3.0486694758444255)\n",
      "('horrível', -2.6371199203342623)\n",
      "('terrível', -2.5736226693940645)\n",
      "('infelizmente', -2.5003663455632172)\n",
      "('nada', -2.3969834983363643)\n",
      "('chato', -1.9100633017798749)\n",
      "('mal', -1.9077155760344524)\n",
      "('minutos', -1.7613753197430215)\n",
      "('piores', -1.718806489889021)\n"
     ]
    }
   ],
   "source": [
    "feature_to_coef = {\n",
    "    word: coef for word, coef in zip(\n",
    "        tfidf_vectorizer.get_feature_names(), final_svm.coef_[0]\n",
    "    )\n",
    "}\n",
    "\n",
    "lista_boa = []\n",
    "lista_ruim = []\n",
    "\n",
    "\n",
    "for best_positive in sorted(\n",
    "    feature_to_coef.items(), \n",
    "    key=lambda x: x[1], \n",
    "    reverse=True)[:10]:\n",
    "    print (best_positive)\n",
    "    lista_boa.append(str(best_positive[0]))\n",
    "    \n",
    "print(\"\\n\\n\")\n",
    "for best_negative in sorted(\n",
    "    feature_to_coef.items(), \n",
    "    key=lambda x: x[1])[:10]:\n",
    "    print (best_negative)\n",
    "    lista_ruim.append(str(best_negative[0]))\n",
    "    "
   ]
  },
  {
   "cell_type": "code",
   "execution_count": 31,
   "metadata": {},
   "outputs": [],
   "source": [
    "#Criação de dataframes para as TOP 10 palavras positivas e negativas \n",
    "\n",
    "df_boa = pd.DataFrame(lista_boa)\n",
    "df_ruim = pd.DataFrame(lista_ruim)"
   ]
  },
  {
   "cell_type": "code",
   "execution_count": 32,
   "metadata": {},
   "outputs": [],
   "source": [
    "from wordcloud import WordCloud, STOPWORDS\n",
    "import matplotlib.pyplot as plt\n",
    "stopwords = set(STOPWORDS)\n",
    "\n",
    "def show_wordcloud(data, title = None):\n",
    "    wordcloud = WordCloud(\n",
    "        background_color='black',\n",
    "        stopwords=stopwords,\n",
    "        max_words=200,\n",
    "        max_font_size=60,\n",
    "        scale=5,\n",
    "        random_state=1 \n",
    "    ).generate(str(data))\n",
    "\n",
    "    fig = plt.figure(1, figsize=(12, 12))\n",
    "    plt.axis('off')\n",
    "    if title: \n",
    "        fig.suptitle(title, fontsize=20)\n",
    "        fig.subplots_adjust(top=2.3)\n",
    "\n",
    "    plt.imshow(wordcloud)\n",
    "    plt.show()"
   ]
  },
  {
   "cell_type": "markdown",
   "metadata": {},
   "source": [
    "### Nuvem de palavras Positivas"
   ]
  },
  {
   "cell_type": "code",
   "execution_count": 33,
   "metadata": {},
   "outputs": [
    {
     "data": {
      "image/png": "[encoded data removed]",
      "text/plain": [
       "<matplotlib.figure.Figure at 0x27d8ef2f5c0>"
      ]
     },
     "metadata": {},
     "output_type": "display_data"
    }
   ],
   "source": [
    "show_wordcloud(df_boa)"
   ]
  },
  {
   "cell_type": "markdown",
   "metadata": {},
   "source": [
    "### Nuvem de palavras Negativas"
   ]
  },
  {
   "cell_type": "code",
   "execution_count": 34,
   "metadata": {},
   "outputs": [
    {
     "data": {
      "image/png": "[encoded data removed]",
      "text/plain": [
       "<matplotlib.figure.Figure at 0x27da688fe48>"
      ]
     },
     "metadata": {},
     "output_type": "display_data"
    }
   ],
   "source": [
    "show_wordcloud(df_ruim)"
   ]
  }
 ],
 "metadata": {
  "kernelspec": {
   "display_name": "Python 3",
   "language": "python",
   "name": "python3"
  },
  "language_info": {
   "codemirror_mode": {
    "name": "ipython",
    "version": 3
   },
   "file_extension": ".py",
   "mimetype": "text/x-python",
   "name": "python",
   "nbconvert_exporter": "python",
   "pygments_lexer": "ipython3",
   "version": "3.6.4"
  }
 },
 "nbformat": 4,
 "nbformat_minor": 2
}
